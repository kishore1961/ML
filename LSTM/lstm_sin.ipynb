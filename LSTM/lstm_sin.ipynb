{
  "cells": [
    {
      "cell_type": "code",
      "execution_count": 64,
      "metadata": {
        "id": "Db2KSGwg1OJY"
      },
      "outputs": [],
      "source": [
        "import numpy as np\n",
        "import math\n",
        "import torch\n",
        "import torch.nn as nn\n",
        "import torch.optim as optim\n",
        "from torch.utils.data import DataLoader,TensorDataset"
      ]
    },
    {
      "cell_type": "markdown",
      "metadata": {
        "id": "cd9DvS03687Z"
      },
      "source": [
        "0 -> 0\n",
        "90 ->3.14/2\n",
        "180 -> 3.14"
      ]
    },
    {
      "cell_type": "code",
      "execution_count": 65,
      "metadata": {
        "colab": {
          "base_uri": "https://localhost:8080/"
        },
        "id": "x8P1r0LD6k-1",
        "outputId": "cac5a2dc-89d9-4331-87ad-f30aee108de4"
      },
      "outputs": [
        {
          "data": {
            "text/plain": [
              "-0.999997146387718"
            ]
          },
          "execution_count": 65,
          "metadata": {},
          "output_type": "execute_result"
        }
      ],
      "source": [
        "math.sin(3.14*1.5)"
      ]
    },
    {
      "cell_type": "code",
      "execution_count": 66,
      "metadata": {
        "colab": {
          "base_uri": "https://localhost:8080/"
        },
        "id": "4aXrAC739AAB",
        "outputId": "0d798850-414b-43d6-b153-655e955526ba"
      },
      "outputs": [
        {
          "data": {
            "text/plain": [
              "0.017444444444444446"
            ]
          },
          "execution_count": 66,
          "metadata": {},
          "output_type": "execute_result"
        }
      ],
      "source": [
        "3.14/180"
      ]
    },
    {
      "cell_type": "code",
      "execution_count": 67,
      "metadata": {
        "id": "IZx1iEUB6k74"
      },
      "outputs": [],
      "source": [
        "sin_data = [math.sin(x) for x in np.arange(0.0,5.0,0.01)]"
      ]
    },
    {
      "cell_type": "code",
      "execution_count": 68,
      "metadata": {
        "colab": {
          "base_uri": "https://localhost:8080/"
        },
        "id": "6Kspediw9z-R",
        "outputId": "c5ec04f6-7af8-47c6-9adf-00b31b8bd45c"
      },
      "outputs": [
        {
          "data": {
            "text/plain": [
              "500"
            ]
          },
          "execution_count": 68,
          "metadata": {},
          "output_type": "execute_result"
        }
      ],
      "source": [
        "len(sin_data)"
      ]
    },
    {
      "cell_type": "code",
      "execution_count": 90,
      "metadata": {
        "id": "4QiquCLM6k5f"
      },
      "outputs": [],
      "source": [
        "input_dataset = [sin_data[x:x+8] for x in range(488)]\n",
        "output_dataset = [sin_data[x:x+4] for x in range(8,496)]\n"
      ]
    },
    {
      "cell_type": "code",
      "execution_count": 91,
      "metadata": {
        "colab": {
          "base_uri": "https://localhost:8080/"
        },
        "id": "RXPYX4jn-9X6",
        "outputId": "ffea39ca-df2a-4ec5-c2f9-b4697f665b5e"
      },
      "outputs": [
        {
          "name": "stdout",
          "output_type": "stream",
          "text": [
            "[0.0, 0.009999833334166664, 0.01999866669333308, 0.02999550020249566, 0.03998933418663416, 0.04997916927067833, 0.059964006479444595, 0.06994284733753277, 0.0799146939691727, 0.08987854919801104, 0.09983341664682815, 0.10977830083717481, 0.11971220728891936]\n"
          ]
        }
      ],
      "source": [
        "print(sin_data[:13])"
      ]
    },
    {
      "cell_type": "code",
      "execution_count": 92,
      "metadata": {
        "colab": {
          "base_uri": "https://localhost:8080/"
        },
        "id": "07IwHCwF6k25",
        "outputId": "fbdeac66-e8f5-4dfa-9c97-a5eb38c9d866"
      },
      "outputs": [
        {
          "name": "stdout",
          "output_type": "stream",
          "text": [
            "[0.0, 0.009999833334166664, 0.01999866669333308, 0.02999550020249566, 0.03998933418663416, 0.04997916927067833, 0.059964006479444595, 0.06994284733753277]\n",
            "[0.0799146939691727, 0.08987854919801104, 0.09983341664682815, 0.10977830083717481]\n"
          ]
        }
      ],
      "source": [
        "print(input_dataset[0])\n",
        "print(output_dataset[0])"
      ]
    },
    {
      "cell_type": "code",
      "execution_count": 93,
      "metadata": {
        "colab": {
          "base_uri": "https://localhost:8080/"
        },
        "id": "vsjk39De6k0Y",
        "outputId": "a4ef3bb8-8fcb-4025-f7a0-a3cb94157732"
      },
      "outputs": [
        {
          "name": "stdout",
          "output_type": "stream",
          "text": [
            "488\n",
            "488\n"
          ]
        }
      ],
      "source": [
        "print(len(input_dataset))\n",
        "print(len(output_dataset))"
      ]
    },
    {
      "cell_type": "code",
      "execution_count": 94,
      "metadata": {
        "id": "MlhHLeSo-SA0"
      },
      "outputs": [],
      "source": [
        "train_input = input_dataset[:450]\n",
        "train_output = output_dataset[:450]\n",
        "test_input = input_dataset[450:]\n",
        "test_output = output_dataset[450:]\n"
      ]
    },
    {
      "cell_type": "code",
      "execution_count": 95,
      "metadata": {
        "colab": {
          "base_uri": "https://localhost:8080/"
        },
        "id": "8kR0BNcfOIg3",
        "outputId": "76fa55d6-a305-492d-d607-f1c6074a72dd"
      },
      "outputs": [
        {
          "data": {
            "text/plain": [
              "[-0.9719030694018208,\n",
              " -0.9695006994538088,\n",
              " -0.967001380243766,\n",
              " -0.9644053617015305]"
            ]
          },
          "execution_count": 95,
          "metadata": {},
          "output_type": "execute_result"
        }
      ],
      "source": [
        "test_output[-1]"
      ]
    },
    {
      "cell_type": "code",
      "execution_count": 96,
      "metadata": {
        "id": "LY-DauLSEE1o"
      },
      "outputs": [],
      "source": [
        "train_input_tensor = torch.FloatTensor(train_input).unsqueeze(-1)\n",
        "train_output_tensor = torch.FloatTensor(train_output)\n",
        "test_input_tensor = torch.FloatTensor(test_input).unsqueeze(-1)\n",
        "test_output_tensor = torch.FloatTensor(test_output)\n"
      ]
    },
    {
      "cell_type": "code",
      "execution_count": 97,
      "metadata": {
        "colab": {
          "base_uri": "https://localhost:8080/"
        },
        "id": "DQteP2Sew-Gk",
        "outputId": "823b4440-18d2-423f-c0ed-bf99a4aa4507"
      },
      "outputs": [
        {
          "name": "stdout",
          "output_type": "stream",
          "text": [
            "test_input_tensor shape: torch.Size([38, 8, 1])\n",
            "test_output_tensor shape: torch.Size([38, 4])\n"
          ]
        }
      ],
      "source": [
        "print(\"test_input_tensor shape:\", test_input_tensor.shape)\n",
        "print(\"test_output_tensor shape:\", test_output_tensor.shape)"
      ]
    },
    {
      "cell_type": "code",
      "execution_count": 98,
      "metadata": {
        "colab": {
          "base_uri": "https://localhost:8080/"
        },
        "id": "kz5vzOUZwS33",
        "outputId": "4bd552e9-ef5c-4c8c-aec4-9326f15be79f"
      },
      "outputs": [
        {
          "data": {
            "text/plain": [
              "tensor([[-0.9876],\n",
              "        [-0.9860],\n",
              "        [-0.9843],\n",
              "        [-0.9825],\n",
              "        [-0.9805],\n",
              "        [-0.9785],\n",
              "        [-0.9764],\n",
              "        [-0.9742]])"
            ]
          },
          "execution_count": 98,
          "metadata": {},
          "output_type": "execute_result"
        }
      ],
      "source": [
        "test_input_tensor[-1]"
      ]
    },
    {
      "cell_type": "code",
      "execution_count": 99,
      "metadata": {
        "id": "H8kw2zsowSJK"
      },
      "outputs": [],
      "source": [
        "train_tensor = TensorDataset(train_input_tensor,train_output_tensor)\n",
        "test_tensor = TensorDataset(test_input_tensor,test_output_tensor)"
      ]
    },
    {
      "cell_type": "code",
      "execution_count": 100,
      "metadata": {
        "id": "d2NC1mkpPNs0"
      },
      "outputs": [],
      "source": [
        "class MYLSTM(nn.Module):\n",
        "  def __init__(self,input_size=1, hidden_size = 50 , num_layers = 2, output_size = 4 ):\n",
        "\n",
        "    super().__init__()\n",
        "\n",
        "    self.lstm = nn.LSTM(input_size , hidden_size,num_layers, batch_first = True)\n",
        "\n",
        "    self.fc = nn.Linear(hidden_size,output_size)\n",
        "\n",
        "  def forward(self,x):\n",
        "    lstm_output, (hidden,cell) = self.lstm(x)\n",
        "\n",
        "    last_output = lstm_output[:,-1,:]\n",
        "\n",
        "    output = self.fc(last_output)\n",
        "\n",
        "    return output\n"
      ]
    },
    {
      "cell_type": "code",
      "execution_count": 101,
      "metadata": {
        "colab": {
          "base_uri": "https://localhost:8080/"
        },
        "id": "BIwDkki4psji",
        "outputId": "b6cd691e-0177-46f6-8794-cca80d0a411d"
      },
      "outputs": [
        {
          "data": {
            "text/plain": [
              "(tensor([[0.0000],\n",
              "         [0.0100],\n",
              "         [0.0200],\n",
              "         [0.0300],\n",
              "         [0.0400],\n",
              "         [0.0500],\n",
              "         [0.0600],\n",
              "         [0.0699]]),\n",
              " tensor([0.0799, 0.0899, 0.0998, 0.1098]))"
            ]
          },
          "execution_count": 101,
          "metadata": {},
          "output_type": "execute_result"
        }
      ],
      "source": [
        "train_tensor[0]\n"
      ]
    },
    {
      "cell_type": "code",
      "execution_count": 102,
      "metadata": {
        "id": "NF_oxrWDgpZ9"
      },
      "outputs": [],
      "source": [
        "train_loader =  DataLoader(train_tensor,batch_size=32,shuffle = True)\n",
        "test_loader =  DataLoader(test_tensor,batch_size=32,shuffle = True)"
      ]
    },
    {
      "cell_type": "code",
      "execution_count": 103,
      "metadata": {
        "colab": {
          "base_uri": "https://localhost:8080/"
        },
        "id": "wpNlD0UrpjyK",
        "outputId": "9b77144c-d146-445e-9a78-04e1eb67a217"
      },
      "outputs": [
        {
          "name": "stdout",
          "output_type": "stream",
          "text": [
            "torch.Size([32, 8, 1])\n",
            "torch.Size([32, 4])\n"
          ]
        }
      ],
      "source": [
        "batch = next(iter(train_loader))\n",
        "print(batch[0].shape)\n",
        "print(batch[1].shape)"
      ]
    },
    {
      "cell_type": "code",
      "execution_count": 104,
      "metadata": {
        "id": "npidQi9AI-Nj"
      },
      "outputs": [],
      "source": [
        "def train(model,train_dataloader,test_dataloader, num_epochs = 100):\n",
        "  device = torch.device('cuda' if torch.cuda_is_available() else 'cpu')\n",
        "  model.to(device)\n",
        "\n",
        "  criterion = nn.MSELoss()\n",
        "  optimizer = optim.Adam(model.parameters(),lr = 0.001)\n",
        "\n",
        "  train_losses = []\n",
        "  test_losses = []\n",
        "\n",
        "  for epoch in range(num_epochs):\n",
        "\n",
        "    model.train()\n",
        "    train_loss = 0\n",
        "\n",
        "    for batch_idx,(inputs,target) in enumerate(train_loader):\n",
        "      inputs = inputs.to(device)\n",
        "      target = target.to(device)\n",
        "\n",
        "      optimizer.zero_grad()\n",
        "      output = model(inputs)\n",
        "      loss = criterion(output,target)\n",
        "\n",
        "      loss.backward()\n",
        "      optimizer.step()\n",
        "\n",
        "      train_loss += loss.item()\n",
        "      train_losses.append(loss.item())\n",
        "\n",
        "    model.eval()\n",
        "\n",
        "    test_loss =0\n",
        "\n",
        "    with torch.no_grad():\n",
        "      for batch_idx,(inputs,target) in enumerate(test_loader):\n",
        "        data,target = data.to(device) , target.to(device)\n",
        "        output = model(data)\n",
        "\n",
        "        test_loss += criterion(output,target).item()\n",
        "\n",
        "        test_losses.append(test_loss.item())\n",
        "\n",
        "    train_loss /= len(train_loader)\n",
        "    test_loss /= len(test_loader)\n",
        "\n",
        "    if (epoch+1)%10 == 0:\n",
        "      print(f\"Epoch[{(epoch+1)/num_epochs}] train loss is {train_loss:4f} test loss is {test_loss:4f}\")\n",
        "\n"
      ]
    },
    {
      "cell_type": "code",
      "execution_count": 105,
      "metadata": {
        "id": "axrxj9PJlM3o"
      },
      "outputs": [],
      "source": [
        "model = MYLSTM()"
      ]
    },
    {
      "cell_type": "code",
      "execution_count": 106,
      "metadata": {
        "colab": {
          "base_uri": "https://localhost:8080/"
        },
        "id": "PXgtJqgXI-Kw",
        "outputId": "aae5706b-fb02-4177-805a-82c90e80b2db"
      },
      "outputs": [
        {
          "name": "stdout",
          "output_type": "stream",
          "text": [
            "Epoch 0: Train Loss: 0.464007, Val Loss: 1.139089\n",
            "Epoch 20: Train Loss: 0.001677, Val Loss: 0.000094\n",
            "Epoch 40: Train Loss: 0.001496, Val Loss: 0.000086\n",
            "Epoch 60: Train Loss: 0.001483, Val Loss: 0.000078\n",
            "Epoch 80: Train Loss: 0.001405, Val Loss: 0.000079\n"
          ]
        }
      ],
      "source": [
        "train_losses, val_losses = train_model(model, train_loader, test_loader, num_epochs=100)"
      ]
    },
    {
      "cell_type": "code",
      "execution_count": null,
      "metadata": {
        "id": "o4vn0MmMI-IX"
      },
      "outputs": [],
      "source": []
    },
    {
      "cell_type": "code",
      "execution_count": null,
      "metadata": {
        "id": "i2xh2R5XI-F3"
      },
      "outputs": [],
      "source": []
    },
    {
      "cell_type": "code",
      "execution_count": null,
      "metadata": {
        "id": "RlFaCCJtI-De"
      },
      "outputs": [],
      "source": []
    },
    {
      "cell_type": "code",
      "execution_count": null,
      "metadata": {
        "id": "sDw84H7rI-BF"
      },
      "outputs": [],
      "source": []
    },
    {
      "cell_type": "code",
      "execution_count": null,
      "metadata": {
        "id": "hpnaaapZI9-s"
      },
      "outputs": [],
      "source": []
    },
    {
      "cell_type": "code",
      "execution_count": null,
      "metadata": {
        "id": "XE3mymA9I98K"
      },
      "outputs": [],
      "source": []
    }
  ],
  "metadata": {
    "accelerator": "GPU",
    "colab": {
      "gpuType": "T4",
      "provenance": []
    },
    "kernelspec": {
      "display_name": "Python 3",
      "name": "python3"
    },
    "language_info": {
      "name": "python"
    }
  },
  "nbformat": 4,
  "nbformat_minor": 0
}
