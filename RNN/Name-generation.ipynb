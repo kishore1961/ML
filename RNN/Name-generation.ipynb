{
 "cells": [
  {
   "cell_type": "markdown",
   "metadata": {},
   "source": []
  },
  {
   "cell_type": "markdown",
   "metadata": {},
   "source": [
    "## What are we doing \n",
    "\n",
    "generating the name of dinosaur using RNN"
   ]
  },
  {
   "cell_type": "code",
   "execution_count": 53,
   "metadata": {},
   "outputs": [],
   "source": [
    "import numpy as np\n",
    "import random\n",
    "import pprint\n",
    "import copy"
   ]
  },
  {
   "cell_type": "code",
   "execution_count": 54,
   "metadata": {},
   "outputs": [],
   "source": [
    "def initialize_parameters(n_a, n_x, n_y):\n",
    "\n",
    "    np.random.seed(1)\n",
    "    Wax = np.random.randn(n_a, n_x)*0.01 # input to hidden\n",
    "    Waa = np.random.randn(n_a, n_a)*0.01 # hidden to hidden\n",
    "    Wya = np.random.randn(n_y, n_a)*0.01 # hidden to output\n",
    "    b = np.zeros((n_a, 1)) # hidden bias\n",
    "    by = np.zeros((n_y, 1)) # output bias\n",
    "    \n",
    "    parameters = {\"Wax\": Wax, \"Waa\": Waa, \"Wya\": Wya, \"b\": b,\"by\": by}\n",
    "    \n",
    "    return parameters"
   ]
  },
  {
   "cell_type": "code",
   "execution_count": 55,
   "metadata": {},
   "outputs": [],
   "source": [
    "def update_parameters(parameters, gradients, lr):\n",
    "\n",
    "    parameters['Wax'] += -lr * gradients['dWax']\n",
    "    parameters['Waa'] += -lr * gradients['dWaa']\n",
    "    parameters['Wya'] += -lr * gradients['dWya']\n",
    "    parameters['b']  += -lr * gradients['db']\n",
    "    parameters['by']  += -lr * gradients['dby']\n",
    "    return parameters"
   ]
  },
  {
   "cell_type": "code",
   "execution_count": 56,
   "metadata": {},
   "outputs": [],
   "source": [
    "def softmax(x):\n",
    "    e_x = np.exp(x-np.max(x))\n",
    "    return e_x/e_x.sum(axis = 0)"
   ]
  },
  {
   "cell_type": "code",
   "execution_count": 57,
   "metadata": {},
   "outputs": [],
   "source": [
    "def smooth(loss,  curr_loss):\n",
    "    return loss * 0.999 + curr_loss * 0.001"
   ]
  },
  {
   "cell_type": "code",
   "execution_count": 58,
   "metadata": {},
   "outputs": [],
   "source": [
    "def get_sample(sample_ix, ix_to_char):\n",
    "    txt = ''.join(ix_to_char[ix] for ix in sample_ix)\n",
    "    txt = txt[0].upper() + txt[1:]  # capitalize first character \n",
    "    return txt"
   ]
  },
  {
   "cell_type": "code",
   "execution_count": 59,
   "metadata": {},
   "outputs": [],
   "source": [
    "def rnn_step_forward(parameters, a_prev,x):\n",
    "\n",
    "    Waa,Wax,Wya,by,b = parameters[\"Waa\"],parameters[\"Wax\"],parameters[\"Wya\"],parameters[\"by\"],parameters[\"b\"]\n",
    "    a_next = np.tanh((np.dot(Wax,x) + np.dot(Waa,a_prev) + b))\n",
    "    p_t = softmax(np.dot(Wya,a_next)+by)\n",
    "\n",
    "    return a_next, p_t\n",
    "    \n",
    "    "
   ]
  },
  {
   "cell_type": "code",
   "execution_count": 71,
   "metadata": {},
   "outputs": [],
   "source": [
    "def rnn_forward(X, Y , a0 , parameters , vocab_size = 36):\n",
    "    x,a , y_hat = {} , {} , {}\n",
    "\n",
    "    a[-1] = np.copy(a0)\n",
    "\n",
    "    loss = 0\n",
    "\n",
    "    for t in range(len(X)):\n",
    "        x[t] = np.zeros((vocab_size,1))\n",
    "        if (X[t] != None):\n",
    "            x[t][X[t]] = 1\n",
    "\n",
    "        a[t] , y_hat[t] = rnn_step_forward(parameters , a[t-1],x[t])\n",
    "        loss -= np.log(y_hat[t][Y[t],0])\n",
    "\n",
    "    cache = (y_hat, a, x)\n",
    "\n",
    "    return loss , cache\n",
    "\n",
    "\n"
   ]
  },
  {
   "cell_type": "code",
   "execution_count": 72,
   "metadata": {},
   "outputs": [],
   "source": [
    "def rnn_step_backward(dy, gradients,parameters, x,a,a_prev):\n",
    "\n",
    "    gradients['dWya'] += np.dot(dy, a.T)\n",
    "    gradients['dby'] += dy\n",
    "    da = np.dot(parameters['Wya'].T, dy) + gradients['da_next'] # backprop into h\n",
    "    daraw = (1 - a * a) * da # backprop through tanh nonlinearity\n",
    "    gradients['db'] += daraw\n",
    "    gradients['dWax'] += np.dot(daraw, x.T)\n",
    "    gradients['dWaa'] += np.dot(daraw, a_prev.T)\n",
    "    gradients['da_next'] = np.dot(parameters['Waa'].T, daraw)\n",
    "    return gradients\n"
   ]
  },
  {
   "cell_type": "code",
   "execution_count": 73,
   "metadata": {},
   "outputs": [],
   "source": [
    "def rnn_backward(X,Y, parameters, cache):\n",
    "    gradients = {}\n",
    "    (y_hat,a,x) = cache\n",
    "    Waa, Wax, Wya, by, b = parameters['Waa'], parameters['Wax'], parameters['Wya'], parameters['by'], parameters['b']\n",
    "    gradients['dWax'], gradients['dWaa'], gradients['dWya'] = np.zeros_like(Wax), np.zeros_like(Waa), np.zeros_like(Wya)\n",
    "    gradients['db'], gradients['dby'] = np.zeros_like(b), np.zeros_like(by)\n",
    "    gradients['da_next'] = np.zeros_like(a[0])\n",
    "\n",
    "    for t in reversed(range(len(X))):\n",
    "        dy = np.copy(y_hat[t])\n",
    "        dy[Y[t]] -=1\n",
    "        gradients = rnn_step_backward(dy, gradients, parameters, x[t], a[t], a[t-1])\n",
    "\n",
    "    return gradients , a\n",
    "\n",
    "\n"
   ]
  },
  {
   "cell_type": "code",
   "execution_count": 74,
   "metadata": {},
   "outputs": [],
   "source": [
    "def get_initial_loss(vocab_size, seq_length):\n",
    "    return -np.log(1.0/vocab_size)*seq_length"
   ]
  },
  {
   "cell_type": "code",
   "execution_count": 75,
   "metadata": {},
   "outputs": [
    {
     "name": "stdout",
     "output_type": "stream",
     "text": [
      "There are 130 total characters and 36 unique characters in your data.\n"
     ]
    }
   ],
   "source": [
    "data = open('dinos.txt', 'r').read()\n",
    "data= data.lower()\n",
    "chars = list(set(data))\n",
    "data_size, vocab_size = len(data), len(chars)\n",
    "print('There are %d total characters and %d unique characters in your data.' % (data_size, vocab_size))"
   ]
  },
  {
   "cell_type": "code",
   "execution_count": null,
   "metadata": {},
   "outputs": [],
   "source": []
  },
  {
   "cell_type": "markdown",
   "metadata": {},
   "source": [
    "create dictionaries mapping \n",
    "1. characters to index and\n",
    "2. index to character"
   ]
  },
  {
   "cell_type": "code",
   "execution_count": 76,
   "metadata": {},
   "outputs": [
    {
     "name": "stdout",
     "output_type": "stream",
     "text": [
      "{0: 'n', 1: '3', 2: '9', 3: 'b', 4: 'v', 5: 'r', 6: '\\n', 7: '.', 8: 'd', 9: 't', 10: '-', 11: '8', 12: 'c', 13: '2', 14: '4', 15: 'f', 16: 's', 17: '1', 18: '6', 19: '5', 20: 'o', 21: 'l', 22: 'i', 23: ' ', 24: 'p', 25: 'a', 26: ':', 27: 'u', 28: 'h', 29: 'g', 30: 'm', 31: 'z', 32: '/', 33: 'e', 34: '7', 35: '0'}\n"
     ]
    }
   ],
   "source": [
    "char_to_ix = {ch:i for i,ch in enumerate(chars)}\n",
    "ix_to_char = {i:ch for i,ch in enumerate(chars)}\n",
    "\n",
    "print(ix_to_char)"
   ]
  },
  {
   "cell_type": "markdown",
   "metadata": {},
   "source": [
    "# Model\n",
    "\n",
    "1. Initialize parameters\n",
    "2. Run the optimization loop\n",
    "3. Forwards propogation\n",
    "4. Backward propogation\n",
    "5. Clip the gradients\n",
    "6. Using the gradients, update your parameters with the gradient descent update rule\n",
    "\n",
    "7. Return the learned parameters"
   ]
  },
  {
   "attachments": {
    "image.png": {
     "image/png": "[encoded data removed]"
    }
   },
   "cell_type": "markdown",
   "metadata": {},
   "source": [
    "![image.png](attachment:image.png)"
   ]
  },
  {
   "cell_type": "markdown",
   "metadata": {},
   "source": [
    "### Tries to predict the next character \n",
    "\n",
    "1. X = list of characters from training set\n",
    "2. Y = output and same characters are input for next block. Y(i) = X(i+1)"
   ]
  },
  {
   "cell_type": "markdown",
   "metadata": {},
   "source": [
    "### Clipping gradients\n",
    "   - When gradients explode we clip them to avoid exploding gradients\n",
    "   - Before updating the parameters we have to perform gradient clipping to make sure your gradients are not clipping.\n",
    "   \n",
    "#### Code\n",
    "\n",
    "   -  "
   ]
  },
  {
   "cell_type": "code",
   "execution_count": 77,
   "metadata": {},
   "outputs": [],
   "source": [
    "def clip(gradients, MaxValue):\n",
    "\n",
    "    gradients =  copy.deepcopy(gradients)\n",
    "\n",
    "    dWaa, dWax, dWya, db, dby = gradients['dWaa'], gradients['dWax'], gradients['dWya'], gradients['db'], gradients['dby']\n",
    "\n",
    "\n",
    "    for gradient in gradients:\n",
    "        np.clip(gradients[gradients] , -MaxValue, MaxValue , out = gradients[gradient])\n",
    "\n",
    "    gradients = {\"dWaa\": dWaa, \"dWax\": dWax, \"dWya\": dWya, \"db\": db, \"dby\": dby}\n",
    "\n",
    "    return gradients"
   ]
  },
  {
   "cell_type": "markdown",
   "metadata": {},
   "source": [
    "### Sampling\n",
    "\n",
    "- We do it after training\n",
    "- we do to test the code, How it is working\n",
    "\n",
    "#### Code\n",
    "\n",
    "-  INPUTS - parameters, char-ix , seed( for randomness)"
   ]
  },
  {
   "cell_type": "code",
   "execution_count": 108,
   "metadata": {},
   "outputs": [],
   "source": [
    "def sample(parameters, char_to_ix , seed):\n",
    "\n",
    "    Waa, Wax, Wya, by, b = parameters['Waa'], parameters['Wax'], parameters['Wya'], parameters['by'], parameters['b']\n",
    "    vocab_size = by.shape[0]\n",
    "    n_a = Waa.shape[1]\n",
    "\n",
    "    x = np.zeros((vocab_size,1))\n",
    "\n",
    "    a_prev = np.zeros((n_a,1))\n",
    "\n",
    "    indices = []\n",
    "\n",
    "    idx = -1\n",
    "\n",
    "    counter = 0\n",
    "\n",
    "    newline_character = char_to_ix['\\n']\n",
    "\n",
    "    while (idx != newline_character and counter !=50):\n",
    "        a = np.tanh(np.dot(Wax,x) + np.dot(Waa,a_prev) + b)\n",
    "        z = np.dot(Wya,a) + by\n",
    "        y = softmax(z)\n",
    "\n",
    "        np.random.seed(counter + seed)\n",
    "\n",
    "        idx = np.random.choice(range(len(y)) , p = np.squeeze(y))\n",
    "\n",
    "        indices.append(idx)\n",
    "\n",
    "        x = np.zeros((vocab_size , 1))\n",
    "        x[idx] = 1\n",
    "\n",
    "        a_prev = a\n",
    "\n",
    "        seed +=1\n",
    "        counter +=1\n",
    "\n",
    "    if (counter == 50):\n",
    "        indices.append(char_to_ix['\\n'])\n",
    "\n",
    "    return indices\n",
    "\n"
   ]
  },
  {
   "cell_type": "markdown",
   "metadata": {},
   "source": [
    "### Optimize\n",
    "\n",
    "- "
   ]
  },
  {
   "cell_type": "markdown",
   "metadata": {},
   "source": [
    "### Model\n",
    "\n",
    "- Each name is a training example\n",
    "- Every 2000 steps of stochastic gradient descent we observe fow algo is doing\n",
    "\n",
    "## Steps\n",
    "\n",
    "- Initialize parameters\n",
    "-  "
   ]
  },
  {
   "cell_type": "markdown",
   "metadata": {},
   "source": []
  },
  {
   "cell_type": "code",
   "execution_count": 109,
   "metadata": {},
   "outputs": [],
   "source": [
    "def optimize(X,Y,a_prev, parameters, learning_rate = 0.01):\n",
    "\n",
    "    loss, cache = rnn_forward(X,Y, a_prev, parameters)\n",
    "\n",
    "    gradients , a = rnn_backward(X,Y,parameters , cache)\n",
    "\n",
    "    parameters = update_parameters(parameters, gradients, learning_rate)\n",
    "\n",
    "    return loss , gradients , a[len(X) - 1]"
   ]
  },
  {
   "cell_type": "code",
   "execution_count": 110,
   "metadata": {},
   "outputs": [],
   "source": [
    "def  model(data_x , ix_to_char , char_to_ix , num_iterations = 35000 , n_a = 50 , dino_names = 7 , vocab_size = 36, verbose = True ):\n",
    "\n",
    "    n_x , n_y = vocab_size , vocab_size\n",
    "\n",
    "    parameters = initialize_parameters(n_a, n_x, n_y)\n",
    "\n",
    "    loss = get_initial_loss(vocab_size , dino_names)\n",
    "\n",
    "    examples = [x.strip() for x in data_x]\n",
    "\n",
    "    np.random.seed(0)\n",
    "    np.random.shuffle(examples)\n",
    "\n",
    "    a_prev = np.zeros((n_a,1))\n",
    "    last_dino_name = \"abc\"\n",
    "\n",
    "    for j in range(num_iterations):\n",
    "\n",
    "        idx = j%len(examples)\n",
    "\n",
    "        single_ex = None\n",
    "        single_ex_char = examples[idx]\n",
    "        single_ex_ix = [char_to_ix[c] for c in single_ex_char]\n",
    "        X = [None] + single_ex_ix\n",
    "\n",
    "        Y = X[1:]\n",
    "        ix_newline = [char_to_ix[\"\\n\"]]\n",
    "        Y = Y + ix_newline\n",
    "\n",
    "        curr_loss , gradients , a_prev = optimize(X,Y,a_prev , parameters , learning_rate = 0.01)\n",
    "        \n",
    "\n",
    "        loss = smooth(loss, curr_loss)\n",
    "        if j % 2000 == 0:\n",
    "            \n",
    "            print('Iteration: %d, Loss: %f' % (j, loss) + '\\n')\n",
    "            \n",
    "            # The number of dinosaur names to print\n",
    "            seed = 0\n",
    "            for name in range(dino_names):\n",
    "                \n",
    "                # Sample indices and print them\n",
    "                sampled_indices = sample(parameters, char_to_ix, seed)\n",
    "                last_dino_name = get_sample(sampled_indices, ix_to_char)\n",
    "                print(last_dino_name.replace('\\n', ''))\n",
    "                \n",
    "                seed += 1  # To get the same result (for grading purposes), increment the seed by one. \n",
    "      \n",
    "            print('\\n')\n",
    "\n",
    "\n",
    "        \n",
    "\n",
    "    return parameters , last_dino_name\n",
    "\n"
   ]
  },
  {
   "cell_type": "code",
   "execution_count": 112,
   "metadata": {},
   "outputs": [
    {
     "name": "stdout",
     "output_type": "stream",
     "text": [
      "Iteration: 0, Loss: 25.098968\n",
      "\n",
      "5f7/zur6d l.78: m3:242mhn1gf02-32rteb.836t3. rza.:\n",
      "F5.9n\n",
      "F7/zur6d l.78: m3:242mhn1gf02-32rteb.836t3. rza.:5\n",
      "5.9n\n",
      "7/zur6d l.78: m3:242mhn1gf02-32rteb.836t3. rza.:5l\n",
      ".9n\n",
      "/zur6d l.78: m3:242mhn1gf02-32rteb.836t3. rza.:5lr\n",
      "\n",
      "\n",
      "Iteration: 2000, Loss: 87.581311\n",
      "\n",
      "Siee/h91r1itesish9/f4ogp92gi7icvsite\n",
      "F/\n",
      "F7hze91rsitesish9/f4ogp92gi7icvsite\n",
      "S6.38hg1v91gie\n",
      "0/6pt4ffitefio/d 46sizn h4esi9294/c\n",
      "C998oes195psp-df7es47ctiz\n",
      "Ez1rsi119046p63646coh9c/104f9s.s:tdsb1dvte\n",
      "\n",
      "\n",
      "Iteration: 4000, Loss: 120.810603\n",
      "\n",
      " o0e/hb1.ii\n",
      "2:.93vh/8991/s/8tseot9098 /99ezo.o8vioe1ctii1\n",
      "F7e/hb1.ii\n",
      " 893vh/8991/s/8tseot9098 /99ezo.o8vioe1ctii1\n",
      "0e/hb1.ii\n",
      "Cb3vh/8991/s/8tseot9098 /99ezo.o8vioe1ctii1\n",
      "/ehb1.ii\n",
      "\n",
      "\n",
      "Iteration: 6000, Loss: 126.485628\n",
      "\n",
      " 10eehr1dio.08:ie9:21f/g31/f0c-92cceb.891t9.ire:.:\n",
      "Cud93\n",
      "27eehr1dio.08:ie9:21f/g31/f0c-92cceb.891t9.ire:.:5\n",
      " t93\n",
      "0eehr1dio.08:ie9:21f/g31/f0c-92cceb.891t9.ire:.:5l\n",
      "Cvn\n",
      "/ehr1dio.08:ie9:21f/g31/f0c-92cceb.891t9.ire:.:5lv\n",
      "\n",
      "\n",
      "Iteration: 8000, Loss: 121.561409\n",
      "\n",
      " l7//pb6\n",
      "F 69nfhgdd9o/1/s\n",
      "F0eeh256i6retaig9:s4smgn6gs08s3s9.e9\n",
      " f9nfhgdd9o/1/s\n",
      "0eeh256i6retaig9:s4smgn6gs08s3s9.e9\n",
      "849ba/s99o/1/s\n",
      "E/pb6\n",
      "\n",
      "\n",
      "Iteration: 10000, Loss: 122.510908\n",
      "\n",
      "6o7e/g.5\n",
      "6pt93.ghtbbi/27f255id909ti/99e/5\n",
      "60e/g.5\n",
      "6tbnv:/tbbi/27f255id909ti/99e/5\n",
      "Ee/g.5\n",
      "6vnv:/tbbi/27f255id909ti/99e/5\n",
      "Gzg.5\n",
      "\n",
      "\n",
      "Iteration: 12000, Loss: 128.174423\n",
      "\n",
      "6o0e/hv1.il.78ai/9:fsfzh31zs04894vteb\n",
      "6p.9nrh/-996/s/-ts7otb0b8 /99ezo.o8\n",
      "60e/hv1.il.78ai/9:fsfzh31zs04894vteb\n",
      "6t9nrh/-996/s/-ts7otb0b8 /99ezo.o8\n",
      "Ee/hv1.il.78ai/9:fsfzh31zs04894vteb\n",
      "6rnrh/-996/s/-ts7otb0b8 /99ezo.o8\n",
      "Uehv1.il.78ai/9:fsfzh31zs04894vteb\n",
      "\n",
      "\n",
      "Iteration: 14000, Loss: 122.884231\n",
      "\n",
      "6o0e/hv6d i.78:i/9:fs4/h31zs021cfvteb.c96t9. vea.:\n",
      "6 d9n\n",
      "60e/hv6d i.78:i/9:fs4/h31zs021cfvteb.c96t9. vea.:o\n",
      "6t9n\n",
      "Ee/hv6d i.78:i/9:fs4/h31zs021cfvteb.c96t9. vea.:oi\n",
      "6rn\n",
      "Aehv6d i.78:i/9:fs4/h31zs021cfvteb.c96t9. vea.:oiv\n",
      "\n",
      "\n",
      "Iteration: 16000, Loss: 130.015703\n",
      "\n",
      "6o0e/hv6d i.78:i/9:fs4/h31zs021cfvteb.896t9.ivea.:\n",
      "6 d93\n",
      "60e/hv6d i.78:i/9:fs4/h31zs021cfvteb.896t9.ivea.:5\n",
      "6t93\n",
      "Ee/hv6d i.78:i/9:fs4/h31zs021cfvteb.896t9.ivea.:5i\n",
      "6r3\n",
      "Aehv6d i.78:i/9:fs4/h31zs021cfvteb.896t9.ivea.:5iv\n",
      "\n",
      "\n",
      "Iteration: 18000, Loss: 130.974347\n",
      "\n",
      "6o0e/hv6d i.78:i/9:fs4/h31zs021cfvteb.896t9.ivea.:\n",
      "6 d93\n",
      "60e/hv6d i.78:i/9:fs4/h31zs021cfvteb.896t9.ivea.:5\n",
      "6t93\n",
      "Ee/hv6d i.78:i/9:fs4/h31zs021cfvteb.896t9.ivea.:5i\n",
      "6r3\n",
      "Aehv6d i.78:i/9:fs4/h31zs021cfvteb.896t9.ivea.:5iv\n",
      "\n",
      "\n",
      "Iteration: 20000, Loss: 131.100602\n",
      "\n",
      "6o0e/hv6d i.78:i/9:fs4/h31zs021cfvteb.896t9.ivea.:\n",
      "6 d93\n",
      "60e/hv6d i.78:i/9:fs4/h31zs021cfvteb.896t9.ivea.:5\n",
      "6t93\n",
      "Ee/hv6d i.78:i/9:fs4/h31zs021cfvteb.896t9.ivea.:5i\n",
      "6r3\n",
      "Aehv6d i.78:i/9:fs4/h31zs021cfvteb.896t9.ivea.:5iv\n",
      "\n",
      "\n",
      "Iteration: 22000, Loss: 131.044365\n",
      "\n",
      "6o0e/hv1. i.78:i/9:fs4/h31zs021cfvteb.896t9. vea.:\n",
      "6 .93\n",
      "60e/hv1. i.78:i/9:fs4/h31zs021cfvteb.896t9. vea.:o\n",
      "6t93\n",
      "Ee/hv1. i.78:i/9:fs4/h31zs021cfvteb.896t9. vea.:oi\n",
      "6r3\n",
      "Aehv1. i.78:i/9:fs4/h31zs021cfvteb.896t9. vea.:oiv\n",
      "\n",
      "\n"
     ]
    }
   ],
   "source": [
    "parameters, last_name = model(data.split(\"\\n\"), ix_to_char, char_to_ix, 22001, verbose = True)\n"
   ]
  },
  {
   "cell_type": "code",
   "execution_count": null,
   "metadata": {},
   "outputs": [],
   "source": []
  },
  {
   "cell_type": "code",
   "execution_count": null,
   "metadata": {},
   "outputs": [],
   "source": []
  },
  {
   "cell_type": "code",
   "execution_count": null,
   "metadata": {},
   "outputs": [],
   "source": []
  },
  {
   "cell_type": "code",
   "execution_count": null,
   "metadata": {},
   "outputs": [],
   "source": []
  },
  {
   "cell_type": "code",
   "execution_count": null,
   "metadata": {},
   "outputs": [],
   "source": []
  },
  {
   "cell_type": "code",
   "execution_count": null,
   "metadata": {},
   "outputs": [],
   "source": []
  },
  {
   "cell_type": "code",
   "execution_count": null,
   "metadata": {},
   "outputs": [],
   "source": []
  },
  {
   "cell_type": "code",
   "execution_count": null,
   "metadata": {},
   "outputs": [],
   "source": []
  }
 ],
 "metadata": {
  "kernelspec": {
   "display_name": "Python 3",
   "language": "python",
   "name": "python3"
  },
  "language_info": {
   "codemirror_mode": {
    "name": "ipython",
    "version": 3
   },
   "file_extension": ".py",
   "mimetype": "text/x-python",
   "name": "python",
   "nbconvert_exporter": "python",
   "pygments_lexer": "ipython3",
   "version": "3.11.2"
  }
 },
 "nbformat": 4,
 "nbformat_minor": 2
}
