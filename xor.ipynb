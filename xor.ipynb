{
  "nbformat": 4,
  "nbformat_minor": 0,
  "metadata": {
    "colab": {
      "provenance": []
    },
    "kernelspec": {
      "name": "python3",
      "display_name": "Python 3"
    },
    "language_info": {
      "name": "python"
    }
  },
  "cells": [
    {
      "cell_type": "code",
      "execution_count": 52,
      "metadata": {
        "id": "1vkOcqcKUEY8"
      },
      "outputs": [],
      "source": [
        "import numpy as np\n",
        "import torch\n",
        "import torch.nn as nn"
      ]
    },
    {
      "cell_type": "code",
      "source": [
        "x = np.array([[0,0],[0,1],[1,0],[1,1]],dtype=np.float32)\n",
        "y = np.array([[0],[1],[1],[0]],dtype=np.float32)\n",
        "x_tensor = torch.tensor(x)\n",
        "y_tensor = torch.tensor(y)\n"
      ],
      "metadata": {
        "id": "v_jVH3rwUNCs"
      },
      "execution_count": 53,
      "outputs": []
    },
    {
      "cell_type": "code",
      "source": [
        "model = nn.Sequential(\n",
        "    nn.Linear(2,2),\n",
        "    nn.Sigmoid(),\n",
        "    nn.Linear(2,1),\n",
        "    nn.Sigmoid()\n",
        ")"
      ],
      "metadata": {
        "id": "4RsEDN0yUM_6"
      },
      "execution_count": 54,
      "outputs": []
    },
    {
      "cell_type": "code",
      "source": [
        "criterion = nn.BCELoss()\n",
        "optimizer = torch.optim.Adam(model.parameters(),lr=0.01)"
      ],
      "metadata": {
        "id": "E90DXxmnUM9K"
      },
      "execution_count": 55,
      "outputs": []
    },
    {
      "cell_type": "code",
      "source": [
        "epochs = 1000\n",
        "for epoch in range(epochs):\n",
        "  model.train()\n",
        "  optimizer.zero_grad()\n",
        "  y_pred = model(x_tensor)\n",
        "  loss = criterion(y_pred,y_tensor)\n",
        "  loss.backward()\n",
        "  optimizer.step()\n",
        "\n",
        "  if epoch %100 ==0:\n",
        "    print(f'Epoch: {epoch} Loss: {loss.item()}')\n",
        "    for name, param in model.named_parameters():\n",
        "      if param.grad is not None:\n",
        "          print(f\"{name} gradient:\\n{param.grad}\")\n",
        "      else:\n",
        "          print(f\"{name} has no gradient\")\n"
      ],
      "metadata": {
        "colab": {
          "base_uri": "https://localhost:8080/"
        },
        "id": "6ORUPsWEUM6f",
        "outputId": "6fc01779-c051-414a-ee96-2f1e68553fd9"
      },
      "execution_count": 56,
      "outputs": [
        {
          "output_type": "stream",
          "name": "stdout",
          "text": [
            "Epoch: 0 Loss: 0.6997766494750977\n",
            "0.weight gradient:\n",
            "tensor([[0.0014, 0.0016],\n",
            "        [0.0024, 0.0031]])\n",
            "0.bias gradient:\n",
            "tensor([0.0049, 0.0063])\n",
            "2.weight gradient:\n",
            "tensor([[0.0264, 0.0289]])\n",
            "2.bias gradient:\n",
            "tensor([0.0553])\n",
            "Epoch: 100 Loss: 0.6929904818534851\n",
            "0.weight gradient:\n",
            "tensor([[-6.6484e-05,  1.8283e-04],\n",
            "        [ 5.0340e-04, -2.4561e-04]])\n",
            "0.bias gradient:\n",
            "tensor([-0.0003,  0.0005])\n",
            "2.weight gradient:\n",
            "tensor([[ 2.4809e-05, -1.4614e-04]])\n",
            "2.bias gradient:\n",
            "tensor([0.0001])\n",
            "Epoch: 200 Loss: 0.6451032757759094\n",
            "0.weight gradient:\n",
            "tensor([[-0.0008,  0.0018],\n",
            "        [ 0.0140, -0.0146]])\n",
            "0.bias gradient:\n",
            "tensor([0.0007, 0.0039])\n",
            "2.weight gradient:\n",
            "tensor([[-0.0020, -0.0258]])\n",
            "2.bias gradient:\n",
            "tensor([0.0043])\n",
            "Epoch: 300 Loss: 0.3552457094192505\n",
            "0.weight gradient:\n",
            "tensor([[-0.0256,  0.0136],\n",
            "        [ 0.0125, -0.0151]])\n",
            "0.bias gradient:\n",
            "tensor([0.0051, 0.0011])\n",
            "2.weight gradient:\n",
            "tensor([[-0.0488, -0.0337]])\n",
            "2.bias gradient:\n",
            "tensor([0.0078])\n",
            "Epoch: 400 Loss: 0.1696193665266037\n",
            "0.weight gradient:\n",
            "tensor([[-0.0130,  0.0071],\n",
            "        [ 0.0068, -0.0078]])\n",
            "0.bias gradient:\n",
            "tensor([0.0020, 0.0006])\n",
            "2.weight gradient:\n",
            "tensor([[-0.0334, -0.0243]])\n",
            "2.bias gradient:\n",
            "tensor([0.0040])\n",
            "Epoch: 500 Loss: 0.10292865335941315\n",
            "0.weight gradient:\n",
            "tensor([[-0.0073,  0.0040],\n",
            "        [ 0.0041, -0.0046]])\n",
            "0.bias gradient:\n",
            "tensor([0.0011, 0.0004])\n",
            "2.weight gradient:\n",
            "tensor([[-0.0223, -0.0170]])\n",
            "2.bias gradient:\n",
            "tensor([0.0025])\n",
            "Epoch: 600 Loss: 0.07101956009864807\n",
            "0.weight gradient:\n",
            "tensor([[-0.0046,  0.0026],\n",
            "        [ 0.0027, -0.0030]])\n",
            "0.bias gradient:\n",
            "tensor([0.0007, 0.0003])\n",
            "2.weight gradient:\n",
            "tensor([[-0.0161, -0.0126]])\n",
            "2.bias gradient:\n",
            "tensor([0.0018])\n",
            "Epoch: 700 Loss: 0.05276254937052727\n",
            "0.weight gradient:\n",
            "tensor([[-0.0032,  0.0018],\n",
            "        [ 0.0019, -0.0022]])\n",
            "0.bias gradient:\n",
            "tensor([0.0005, 0.0002])\n",
            "2.weight gradient:\n",
            "tensor([[-0.0123, -0.0097]])\n",
            "2.bias gradient:\n",
            "tensor([0.0013])\n",
            "Epoch: 800 Loss: 0.041116319596767426\n",
            "0.weight gradient:\n",
            "tensor([[-0.0024,  0.0013],\n",
            "        [ 0.0015, -0.0016]])\n",
            "0.bias gradient:\n",
            "tensor([0.0003, 0.0001])\n",
            "2.weight gradient:\n",
            "tensor([[-0.0098, -0.0078]])\n",
            "2.bias gradient:\n",
            "tensor([0.0010])\n",
            "Epoch: 900 Loss: 0.033128999173641205\n",
            "0.weight gradient:\n",
            "tensor([[-0.0018,  0.0010],\n",
            "        [ 0.0011, -0.0013]])\n",
            "0.bias gradient:\n",
            "tensor([0.0003, 0.0001])\n",
            "2.weight gradient:\n",
            "tensor([[-0.0080, -0.0064]])\n",
            "2.bias gradient:\n",
            "tensor([0.0008])\n"
          ]
        }
      ]
    },
    {
      "cell_type": "code",
      "source": [],
      "metadata": {
        "id": "dB9rV71kbaSo"
      },
      "execution_count": null,
      "outputs": []
    }
  ]
}